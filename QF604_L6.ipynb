{
 "cells": [
  {
   "cell_type": "code",
   "execution_count": 1,
   "id": "b5384eb0",
   "metadata": {},
   "outputs": [
    {
     "data": {
      "text/plain": [
       "(       Date  4 WEEKS BANK DISCOUNT\n",
       " 0  1/4/2021                   0.09\n",
       " 1  1/5/2021                   0.08\n",
       " 2  1/6/2021                   0.09\n",
       " 3  1/7/2021                   0.09\n",
       " 4  1/8/2021                   0.08,\n",
       "            Date  4 WEEKS BANK DISCOUNT\n",
       " 484   12/8/2022                   3.61\n",
       " 485   12/9/2022                   3.66\n",
       " 486  12/12/2022                   3.68\n",
       " 487  12/13/2022                   3.71\n",
       " 488  12/14/2022                   3.73,\n",
       " 489)"
      ]
     },
     "execution_count": 1,
     "metadata": {},
     "output_type": "execute_result"
    }
   ],
   "source": [
    "import numpy as np\n",
    "import pandas as pd\n",
    "import matplotlib.pyplot as plt\n",
    "df = pd.read_csv('Interest_Rate.csv')\n",
    "df.head(), df.tail(), len(df)"
   ]
  },
  {
   "cell_type": "code",
   "execution_count": 2,
   "id": "9a9e69cc",
   "metadata": {},
   "outputs": [
    {
     "name": "stdout",
     "output_type": "stream",
     "text": [
      "0      0.091940\n",
      "1      0.081655\n",
      "2      0.091940\n",
      "3      0.091940\n",
      "4      0.081655\n",
      "         ...   \n",
      "484    5.235002\n",
      "485    5.339329\n",
      "486    5.381410\n",
      "487    5.444914\n",
      "488    5.487505\n",
      "Name: 4 WEEKS BANK DISCOUNT, Length: 489, dtype: float64\n"
     ]
    }
   ],
   "source": [
    "### We assume 4-week riskfree rates p.a. are monthly discount yields.\n",
    "DY=df['4 WEEKS BANK DISCOUNT']  ### DY is annualized discount yield\n",
    "### convert this DY to annualized spot rate SR (BEY)\n",
    "###   discounted bill price P = 1-DY/12. SR approx by BEY = (1/P - 1) x 12 x 365/360. Hence.\n",
    "SR=365*DY/(360*(1-DY/12))\n",
    "print(SR)"
   ]
  },
  {
   "cell_type": "code",
   "execution_count": 3,
   "id": "20b70090",
   "metadata": {},
   "outputs": [
    {
     "name": "stdout",
     "output_type": "stream",
     "text": [
      "1     -0.010284\n",
      "2      0.010284\n",
      "3      0.000000\n",
      "4     -0.010284\n",
      "5      0.010284\n",
      "         ...   \n",
      "484    0.020716\n",
      "485    0.104327\n",
      "486    0.042082\n",
      "487    0.063503\n",
      "488    0.042591\n",
      "Name: 4 WEEKS BANK DISCOUNT, Length: 488, dtype: float64\n"
     ]
    }
   ],
   "source": [
    "DSR=SR.diff()\n",
    "DSR=DSR[1:489,]\n",
    "print(DSR)"
   ]
  },
  {
   "cell_type": "code",
   "execution_count": 4,
   "id": "e000df9e",
   "metadata": {},
   "outputs": [
    {
     "name": "stdout",
     "output_type": "stream",
     "text": [
      "1      0.091940\n",
      "2      0.081655\n",
      "3      0.091940\n",
      "4      0.091940\n",
      "5      0.081655\n",
      "         ...   \n",
      "484    5.214286\n",
      "485    5.235002\n",
      "486    5.339329\n",
      "487    5.381410\n",
      "488    5.444914\n",
      "Name: 4 WEEKS BANK DISCOUNT, Length: 488, dtype: float64\n"
     ]
    }
   ],
   "source": [
    "SR1=SR.shift(1)\n",
    "SR1=SR1[1:489,]\n",
    "print(SR1)"
   ]
  },
  {
   "cell_type": "code",
   "execution_count": 5,
   "id": "93fa691a",
   "metadata": {},
   "outputs": [
    {
     "name": "stdout",
     "output_type": "stream",
     "text": [
      "Optimization terminated successfully.\n",
      "         Current function value: 0.000002\n",
      "         Iterations: 13\n",
      "         Function evaluations: 17\n",
      "         Gradient evaluations: 17\n",
      "Optimization terminated successfully.\n",
      "         Current function value: 0.000000\n",
      "         Iterations: 21\n",
      "         Function evaluations: 27\n",
      "         Gradient evaluations: 27\n",
      "Optimization terminated successfully.\n",
      "         Current function value: 0.000000\n",
      "         Iterations: 0\n",
      "         Function evaluations: 1\n",
      "         Gradient evaluations: 1\n",
      "Optimization terminated successfully.\n",
      "         Current function value: 0.000000\n",
      "         Iterations: 0\n",
      "         Function evaluations: 1\n",
      "         Gradient evaluations: 1\n"
     ]
    }
   ],
   "source": [
    "from statsmodels.sandbox.regression.gmm import GMM\n",
    "\n",
    "inst = np.column_stack((np.ones(len(SR1)), SR1))\n",
    "\n",
    "class gmm(GMM):\n",
    "    def momcond(self, params):\n",
    "        p0, p1, p2, p3 = params\n",
    "        endog = self.endog\n",
    "        exog = self.exog.squeeze()\n",
    "        inst = self.instrument   \n",
    "\n",
    "        error1 = endog - p0 - p1 * exog\n",
    "        error2 = (endog - p0 - p1 * exog) ** 2 - p2 * (1/365) * (exog ** p3)\n",
    "        error3 = (endog - p0 - p1 * exog) * inst[:,1]\n",
    "        error4 = ((endog - p0 - p1 * exog) ** 2 - p2 * (1/365) * (exog ** p3)) * inst[:,1]\n",
    "        g = np.column_stack((error1, error2, error3, error4))\n",
    "        return g\n",
    "\n",
    "initial0 = np.array([0.1, 0.1, 1, 1])\n",
    "results = gmm(endog = DSR, exog = SR1, instrument = inst, k_moms=4, k_params=4).fit(initial0)\n",
    "\n",
    "### numpy.squeeze() function is used when we want to remove single-dimensional entries from the shape of an array, e.g. [[[2,2],[3,3]]] to [[2,2],[3,3]]"
   ]
  },
  {
   "cell_type": "code",
   "execution_count": 6,
   "id": "53230ac8",
   "metadata": {},
   "outputs": [
    {
     "name": "stdout",
     "output_type": "stream",
     "text": [
      "                                   gmm Results                                   \n",
      "=================================================================================\n",
      "Dep. Variable:     4 WEEKS BANK DISCOUNT   Hansen J:                    3.842e-11\n",
      "Model:                               gmm   Prob (Hansen J):                   nan\n",
      "Method:                              GMM                                         \n",
      "Date:                   Mon, 17 Feb 2025                                         \n",
      "Time:                           10:05:01                                         \n",
      "No. Observations:                    488                                         \n",
      "==============================================================================\n",
      "                 coef    std err          z      P>|z|      [0.025      0.975]\n",
      "------------------------------------------------------------------------------\n",
      "p 0            0.0052      0.002      2.311      0.021       0.001       0.010\n",
      "p 1            0.0060      0.004      1.479      0.139      -0.002       0.014\n",
      "p 2            3.4160      0.555      6.155      0.000       2.328       4.504\n",
      "p 3            0.7662      0.108      7.119      0.000       0.555       0.977\n",
      "==============================================================================\n"
     ]
    }
   ],
   "source": [
    "print(results.summary())"
   ]
  },
  {
   "cell_type": "code",
   "execution_count": 7,
   "id": "e3068423",
   "metadata": {},
   "outputs": [
    {
     "data": {
      "text/plain": [
       "(488, 4)"
      ]
     },
     "execution_count": 7,
     "metadata": {},
     "output_type": "execute_result"
    }
   ],
   "source": [
    "mod = gmm(endog = DSR, exog = SR1, instrument = inst, k_moms=4, k_params=4)\n",
    "mod.momcond(initial0).shape"
   ]
  },
  {
   "cell_type": "code",
   "execution_count": 8,
   "id": "c3e6d7f9",
   "metadata": {},
   "outputs": [
    {
     "name": "stdout",
     "output_type": "stream",
     "text": [
      "alpha: 1.898\n",
      "beta: -2.19\n",
      "sigma: 1.8482424083436675\n",
      "lambda: 0.3831\n"
     ]
    }
   ],
   "source": [
    "alpha=0.0052/(1/365); print(\"alpha:\", alpha)\n",
    "beta=-0.0060/(1/365); print(\"beta:\", beta)  ### Note this is weakest \n",
    "### not significantly diff from zero. More like Dothan's model\n",
    "sigma=np.sqrt(3.4160); print(\"sigma:\", sigma)\n",
    "lambda1 = 0.7662/2; print(\"lambda:\", lambda1)"
   ]
  }
 ],
 "metadata": {
  "kernelspec": {
   "display_name": "lewagon",
   "language": "python",
   "name": "python3"
  },
  "language_info": {
   "codemirror_mode": {
    "name": "ipython",
    "version": 3
   },
   "file_extension": ".py",
   "mimetype": "text/x-python",
   "name": "python",
   "nbconvert_exporter": "python",
   "pygments_lexer": "ipython3",
   "version": "3.10.6"
  }
 },
 "nbformat": 4,
 "nbformat_minor": 5
}
